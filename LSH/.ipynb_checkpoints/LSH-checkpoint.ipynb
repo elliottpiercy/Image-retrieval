{
 "cells": [
  {
   "cell_type": "code",
   "execution_count": 1,
   "metadata": {},
   "outputs": [],
   "source": [
    "import numpy as np\n",
    "from sklearn.neighbors import LSHForest\n",
    "import matplotlib.pyplot as plt\n",
    "import itertools\n",
    "import LSH\n",
    "# from tensorflow.examples.tutorials.mnist import input_data\n",
    "# mnist = input_data.read_data_sets('MNIST_data', validation_size=10000)"
   ]
  },
  {
   "cell_type": "code",
   "execution_count": 2,
   "metadata": {},
   "outputs": [],
   "source": [
    "## Satellite images below ###"
   ]
  },
  {
   "cell_type": "code",
   "execution_count": 3,
   "metadata": {},
   "outputs": [
    {
     "name": "stdout",
     "output_type": "stream",
     "text": [
      "(55, 22500)\n"
     ]
    }
   ],
   "source": [
    "from os import listdir\n",
    "from os.path import isfile, join\n",
    "import cv2\n",
    "path = 'G:/Elliott/train_sm/'\n",
    "files = [cv2.cvtColor(cv2.imread(path+f), cv2.COLOR_BGR2GRAY) for f in listdir('G:/Elliott/train_sm') if isfile(join('G:/Elliott/train_sm', f))]\n",
    "files = files[:55]\n",
    "\n",
    "def resize(images):\n",
    "            \n",
    "    shape = (150, 150)\n",
    "    \n",
    "    new_data = np.array([])\n",
    "    for image in images:\n",
    "        if image.shape == shape:\n",
    "            new_data = np.append(new_data,np.asarray(image))\n",
    "        else:\n",
    "            new = cv2.resize(image, dsize=shape, interpolation=cv2.INTER_CUBIC)\n",
    "            new_data = np.append(new_data, np.ravel(new))\n",
    "            \n",
    "    new_data = np.reshape(new_data, (len(images),shape[0]*shape[1]))\n",
    "\n",
    "    return new_data\n",
    "\n",
    "\n",
    "train_images = resize(files)\n",
    "\n",
    "\n",
    "class images():\n",
    "    \n",
    "    def __init__(self,images,labels):\n",
    "        self.images = images\n",
    "        self.labels = labels\n",
    "        \n",
    "        \n",
    "    def images(self, images):\n",
    "        return self.images\n",
    "    \n",
    "    def labels(self):\n",
    "        return self.labels\n",
    "    \n",
    "imgs_train = images(train_images, np.arange(len(train_images)))\n",
    "# imgs_val = images(val_images, np.arange(len(val_images)))\n",
    "\n",
    "print(imgs_train.images.shape)"
   ]
  },
  {
   "cell_type": "code",
   "execution_count": 5,
   "metadata": {
    "scrolled": true
   },
   "outputs": [
    {
     "name": "stderr",
     "output_type": "stream",
     "text": [
      "c:\\users\\ellio\\documents\\miniconda3\\lib\\site-packages\\sklearn\\neighbors\\approximate.py:220: DeprecationWarning: LSHForest has poor performance and has been deprecated in 0.19. It will be removed in version 0.21.\n",
      "  DeprecationWarning)\n"
     ]
    }
   ],
   "source": [
    "# Config holds the model parameter values for Grid Search\n",
    "class config:\n",
    "    train_points = 250\n",
    "    val_points = 100\n",
    "    \n",
    "    parameters = {\n",
    "        \"n_neigh\": [10, 20, 30],\n",
    "        'n_est' : [50,100,150]}\n",
    "\n",
    "# Initialise config and LSH model   \n",
    "config = config()\n",
    "LSH_ = LSH.LSH(None, None, None)\n",
    "\n",
    "\n",
    "data = imgs_train.images\n",
    "neighbours = 10\n",
    "\n",
    "optimal_model = LSH_.fit_model(data, 150, 10)\n",
    "indices = LSH_.predict(optimal_model, data, neighbours)\n",
    "\n",
    "\n",
    "query = 41\n",
    "plt.imshow(files[query])\n",
    "plt.show()\n",
    "\n",
    "print(\"----------------------------\")\n",
    "for i in indices[query]:\n",
    "    print(i)\n",
    "    plt.imshow(files[i])\n",
    "    plt.show()\n",
    "\n"
   ]
  },
  {
   "cell_type": "code",
   "execution_count": null,
   "metadata": {
    "scrolled": false
   },
   "outputs": [],
   "source": [
    "\n"
   ]
  },
  {
   "cell_type": "code",
   "execution_count": null,
   "metadata": {
    "scrolled": true
   },
   "outputs": [],
   "source": [
    "### MNIST below here ###"
   ]
  },
  {
   "cell_type": "code",
   "execution_count": null,
   "metadata": {
    "scrolled": true
   },
   "outputs": [],
   "source": [
    "# Config holds the model parameter values for Grid Search\n",
    "class config:\n",
    "    train_points = 5000\n",
    "    val_points = 1000\n",
    "    \n",
    "    parameters = {\n",
    "        \"n_neigh\": [10, 20, 30],\n",
    "        'n_est' : [50,100,150]}\n",
    "\n",
    "# Initialise config and LSH model   \n",
    "config = config()\n",
    "LSH = LSH(mnist.train, mnist.validation, mnist.test)\n",
    "\n",
    "# Optimise the model using \n",
    "max_accuracy, optimal_estimators, optimal_n_neighbours = LSH.optimise(config.train_points, config.val_points, config.parameters)\n",
    "print(max_accuracy)"
   ]
  },
  {
   "cell_type": "code",
   "execution_count": null,
   "metadata": {},
   "outputs": [],
   "source": [
    "data = mnist.validation.images[:1000]\n",
    "neighbours = 10\n",
    "\n",
    "# Return optimal model using data and optimal parameters\n",
    "optimal_model = LSH.fit_model(data, optimal_estimators, optimal_n_neighbours)\n",
    "# Return indices of predictions\n",
    "indices = LSH.predict(optimal_model, data, neighbours)\n",
    "# Return accuracy and error distribution\n",
    "accuracy, positions = LSH.model_accuracy(indices, is_optimising = False)\n",
    "# Plot error distributions\n",
    "LSH.plot_bar_chart(positions, data.shape[0])"
   ]
  },
  {
   "cell_type": "code",
   "execution_count": null,
   "metadata": {},
   "outputs": [],
   "source": []
  },
  {
   "cell_type": "code",
   "execution_count": null,
   "metadata": {
    "scrolled": true
   },
   "outputs": [],
   "source": []
  }
 ],
 "metadata": {
  "kernelspec": {
   "display_name": "Python 3",
   "language": "python",
   "name": "python3"
  },
  "language_info": {
   "codemirror_mode": {
    "name": "ipython",
    "version": 3
   },
   "file_extension": ".py",
   "mimetype": "text/x-python",
   "name": "python",
   "nbconvert_exporter": "python",
   "pygments_lexer": "ipython3",
   "version": "3.6.8"
  }
 },
 "nbformat": 4,
 "nbformat_minor": 2
}
