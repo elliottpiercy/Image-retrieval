{
 "cells": [
  {
   "cell_type": "code",
   "execution_count": 3,
   "metadata": {},
   "outputs": [],
   "source": [
    "import numpy as np"
   ]
  },
  {
   "cell_type": "code",
   "execution_count": 8,
   "metadata": {},
   "outputs": [],
   "source": [
    "\n",
    "# Greedy affinity method.\n",
    "# features_a and features_b = super feature vectors. A super feature vector is a set containing the features gathered from each \n",
    "# feature learner (autoencoder).\n",
    "\n",
    "def greedy_affinity(features, control_constant = 10):\n",
    "    feature_scores = np.array([])\n",
    "    \n",
    "    from sklearn.metrics.pairwise import euclidean_distances\n",
    "    for feature_a in features:\n",
    "        for feature_b in features:\n",
    "            euclidean_dist = euclidean_distances(np.atleast_2d(feature_a),np.atleast_2d(feature_b))\n",
    "            feature_scores = np.append(feature_scores, np.exp(euclidean_dist / control_constant))\n",
    "            \n",
    "    return np.reshape(feature_scores,(len(features),len(features)))"
   ]
  },
  {
   "cell_type": "code",
   "execution_count": 9,
   "metadata": {},
   "outputs": [
    {
     "name": "stdout",
     "output_type": "stream",
     "text": [
      "[[1.00000000e+00 3.08620681e+00 2.06837665e+05 2.44843536e+03\n",
      "  6.07923718e+03]\n",
      " [3.08620681e+00 1.00000000e+00 1.53510491e+05 4.76926208e+03\n",
      "  1.13262784e+04]\n",
      " [2.06837665e+05 1.53510491e+05 1.00000000e+00 3.25813758e+06\n",
      "  4.44309253e+06]\n",
      " [2.44843536e+03 4.76926208e+03 3.25813758e+06 1.00000000e+00\n",
      "  2.71828183e+00]\n",
      " [6.07923718e+03 1.13262784e+04 4.44309253e+06 2.71828183e+00\n",
      "  1.00000000e+00]]\n"
     ]
    }
   ],
   "source": [
    "features = np.array([[1,3,5,11],\n",
    "              [4,12,4,5],\n",
    "              [123,3,1,2],\n",
    "              [1,2,7,89],\n",
    "              [4, 5, 8,98]])\n",
    "\n",
    "scores = greedy_affinity(features,10)\n"
   ]
  },
  {
   "cell_type": "code",
   "execution_count": null,
   "metadata": {},
   "outputs": [],
   "source": []
  }
 ],
 "metadata": {
  "kernelspec": {
   "display_name": "Python 3",
   "language": "python",
   "name": "python3"
  },
  "language_info": {
   "codemirror_mode": {
    "name": "ipython",
    "version": 3
   },
   "file_extension": ".py",
   "mimetype": "text/x-python",
   "name": "python",
   "nbconvert_exporter": "python",
   "pygments_lexer": "ipython3",
   "version": "3.6.8"
  }
 },
 "nbformat": 4,
 "nbformat_minor": 2
}
