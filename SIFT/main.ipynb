{
 "cells": [
  {
   "cell_type": "code",
   "execution_count": 1,
   "metadata": {},
   "outputs": [],
   "source": [
    "import cv2\n",
    "import numpy as np\n",
    "import scipy\n",
    "from scipy.misc import imread\n",
    "import os\n",
    "import matplotlib.pyplot as plt\n",
    "# from tensorflow.examples.tutorials.mnist import input_data\n",
    "# mnist = input_data.read_data_sets('MNIST_data', validation_size=0)"
   ]
  },
  {
   "cell_type": "code",
   "execution_count": 2,
   "metadata": {},
   "outputs": [
    {
     "name": "stdout",
     "output_type": "stream",
     "text": [
      "(55, 22500)\n"
     ]
    }
   ],
   "source": [
    "from os import listdir\n",
    "from os.path import isfile, join\n",
    "import cv2\n",
    "path = 'G:/Elliott/train_sm/'\n",
    "files = [cv2.cvtColor(cv2.imread(path+f), cv2.COLOR_BGR2GRAY) for f in listdir('G:/Elliott/train_sm') if isfile(join('G:/Elliott/train_sm', f))]\n",
    "files = files[:55]\n",
    "\n",
    "def resize(images):\n",
    "            \n",
    "    shape = (150, 150)\n",
    "    \n",
    "    new_data = np.array([])\n",
    "    for image in images:\n",
    "        if image.shape == shape:\n",
    "            new_data = np.append(new_data,np.asarray(image))\n",
    "        else:\n",
    "            new = cv2.resize(image, dsize=shape, interpolation=cv2.INTER_CUBIC)\n",
    "            new_data = np.append(new_data, np.ravel(new))\n",
    "            \n",
    "    new_data = np.reshape(new_data, (len(images),shape[0]*shape[1]))\n",
    "\n",
    "    return new_data\n",
    "\n",
    "\n",
    "train_images = resize(files)\n",
    "\n",
    "\n",
    "class images():\n",
    "    \n",
    "    def __init__(self,images,labels):\n",
    "        self.images = images\n",
    "        self.labels = labels\n",
    "        \n",
    "        \n",
    "    def images(self, images):\n",
    "        return self.images\n",
    "    \n",
    "    def labels(self):\n",
    "        return self.labels\n",
    "    \n",
    "imgs_train = images(train_images, np.arange(len(train_images)))\n",
    "# imgs_val = images(val_images, np.arange(len(val_images)))\n",
    "\n",
    "print(imgs_train.images.shape)"
   ]
  },
  {
   "cell_type": "code",
   "execution_count": 3,
   "metadata": {
    "scrolled": true
   },
   "outputs": [],
   "source": [
    "class sift():\n",
    "    \n",
    "    def __init__(self,config):\n",
    "        self.config = config\n",
    "        \n",
    "    \n",
    "    def extract_features(self,images):\n",
    "\n",
    "        features = []\n",
    "\n",
    "        for image in images:\n",
    "            img = cv2.imread(image)\n",
    "            \n",
    "            \n",
    "            sift = cv2.xfeatures2d.SIFT_create(nfeatures=self.config.nfeatures)\n",
    "\n",
    "            key_points, description = sift.detectAndCompute(img, None)\n",
    "            features = np.append(features,np.ravel(description))\n",
    "\n",
    "        return np.reshape(features,(images.shape[0],128*self.config.nfeatures))\n",
    "    \n",
    "    \n",
    "    \n",
    "    def similarity_ranking(self,features, plot = False):\n",
    "        \n",
    "        from sklearn.neighbors import KNeighborsClassifier\n",
    "        classifier = KNeighborsClassifier(n_neighbors  = self.config.n_neighbours+1, p = self.config.p)\n",
    "        classifier.fit(features, np.arange(features.shape[0]))\n",
    "            \n",
    "        distances, indices = classifier.kneighbors(np.atleast_2d(features[self.config.query_image]))\n",
    "        indices = np.delete(indices[0],0)\n",
    "        \n",
    "        if plot:\n",
    "            self.plot_sim(indices)\n",
    "            \n",
    "        return indices\n",
    "\n",
    "    \n",
    "#     def plot_sim(self,ranking):\n",
    "#         name = 'C:/Users/ellio/OneDrive/Pictures/mountains/image'+str(config.query_image+1)+'.jpg'\n",
    "#         img = cv2.imread(name)\n",
    "#         print(\"Query:\")\n",
    "#         plt.imshow(img)\n",
    "#         plt.show()\n",
    "        \n",
    "#         print(\"--------------------------------------------\")\n",
    "#         for rank in ranking:\n",
    "#             name = 'C:/Users/ellio/OneDrive/Pictures/mountains/image'+str(rank+1)+'.jpg'\n",
    "#             img = cv2.imread(name)\n",
    "#             plt.imshow(img)\n",
    "#             plt.show()\n",
    "            \n",
    "            \n",
    "class config:\n",
    "    nfeatures = 32\n",
    "    n_neighbours = 10\n",
    "    p = 2\n",
    "    query_image = 13\n",
    "    \n",
    "    \n",
    "\n",
    "    \n",
    "config = config()\n",
    "sift_sim = sift(config)"
   ]
  },
  {
   "cell_type": "code",
   "execution_count": 17,
   "metadata": {
    "scrolled": false
   },
   "outputs": [
    {
     "name": "stdout",
     "output_type": "stream",
     "text": [
      "(150, 150)\n"
     ]
    },
    {
     "ename": "error",
     "evalue": "OpenCV(3.4.2) C:\\projects\\opencv-python\\opencv_contrib\\modules\\xfeatures2d\\src\\sift.cpp:1121: error: (-5:Bad argument) image is empty or has incorrect depth (!=CV_8U) in function 'cv::xfeatures2d::SIFT_Impl::detectAndCompute'\n",
     "output_type": "error",
     "traceback": [
      "\u001b[1;31m---------------------------------------------------------------------------\u001b[0m",
      "\u001b[1;31merror\u001b[0m                                     Traceback (most recent call last)",
      "\u001b[1;32m<ipython-input-17-4395f37b4628>\u001b[0m in \u001b[0;36m<module>\u001b[1;34m()\u001b[0m\n\u001b[0;32m      4\u001b[0m     \u001b[0ma\u001b[0m \u001b[1;33m=\u001b[0m \u001b[0mnp\u001b[0m\u001b[1;33m.\u001b[0m\u001b[0mreshape\u001b[0m\u001b[1;33m(\u001b[0m\u001b[0mimg\u001b[0m\u001b[1;33m,\u001b[0m\u001b[1;33m(\u001b[0m\u001b[1;36m150\u001b[0m\u001b[1;33m,\u001b[0m\u001b[1;36m150\u001b[0m\u001b[1;33m)\u001b[0m\u001b[1;33m)\u001b[0m\u001b[1;33m\u001b[0m\u001b[1;33m\u001b[0m\u001b[0m\n\u001b[0;32m      5\u001b[0m     \u001b[0mprint\u001b[0m\u001b[1;33m(\u001b[0m\u001b[0ma\u001b[0m\u001b[1;33m.\u001b[0m\u001b[0mshape\u001b[0m\u001b[1;33m)\u001b[0m\u001b[1;33m\u001b[0m\u001b[1;33m\u001b[0m\u001b[0m\n\u001b[1;32m----> 6\u001b[1;33m     \u001b[0mkey_points\u001b[0m\u001b[1;33m,\u001b[0m \u001b[0mdescription\u001b[0m \u001b[1;33m=\u001b[0m \u001b[0msift\u001b[0m\u001b[1;33m.\u001b[0m\u001b[0mdetectAndCompute\u001b[0m\u001b[1;33m(\u001b[0m\u001b[0ma\u001b[0m\u001b[1;33m,\u001b[0m \u001b[1;32mNone\u001b[0m\u001b[1;33m)\u001b[0m\u001b[1;33m\u001b[0m\u001b[1;33m\u001b[0m\u001b[0m\n\u001b[0m\u001b[0;32m      7\u001b[0m \u001b[1;33m\u001b[0m\u001b[0m\n\u001b[0;32m      8\u001b[0m \u001b[1;33m\u001b[0m\u001b[0m\n",
      "\u001b[1;31merror\u001b[0m: OpenCV(3.4.2) C:\\projects\\opencv-python\\opencv_contrib\\modules\\xfeatures2d\\src\\sift.cpp:1121: error: (-5:Bad argument) image is empty or has incorrect depth (!=CV_8U) in function 'cv::xfeatures2d::SIFT_Impl::detectAndCompute'\n"
     ]
    }
   ],
   "source": [
    "img = np.array([])\n",
    "for img in imgs_train.images:\n",
    "    sift = cv2.xfeatures2d.SIFT_create(nfeatures=sift_sim.config.nfeatures)\n",
    "\n",
    "    key_points, description = sift.detectAndCompute(np.reshape(img,(150,150)), None)\n",
    "    \n",
    "\n",
    "# ranking = sift_sim.similarity_ranking(features, plot = True)"
   ]
  },
  {
   "cell_type": "code",
   "execution_count": null,
   "metadata": {
    "scrolled": false
   },
   "outputs": [],
   "source": []
  },
  {
   "cell_type": "code",
   "execution_count": null,
   "metadata": {
    "scrolled": false
   },
   "outputs": [],
   "source": []
  },
  {
   "cell_type": "code",
   "execution_count": null,
   "metadata": {},
   "outputs": [],
   "source": []
  },
  {
   "cell_type": "code",
   "execution_count": null,
   "metadata": {},
   "outputs": [],
   "source": []
  },
  {
   "cell_type": "code",
   "execution_count": null,
   "metadata": {},
   "outputs": [],
   "source": []
  },
  {
   "cell_type": "code",
   "execution_count": null,
   "metadata": {},
   "outputs": [],
   "source": []
  },
  {
   "cell_type": "code",
   "execution_count": null,
   "metadata": {},
   "outputs": [],
   "source": []
  }
 ],
 "metadata": {
  "kernelspec": {
   "display_name": "Python 3",
   "language": "python",
   "name": "python3"
  },
  "language_info": {
   "codemirror_mode": {
    "name": "ipython",
    "version": 3
   },
   "file_extension": ".py",
   "mimetype": "text/x-python",
   "name": "python",
   "nbconvert_exporter": "python",
   "pygments_lexer": "ipython3",
   "version": "3.6.8"
  }
 },
 "nbformat": 4,
 "nbformat_minor": 2
}
