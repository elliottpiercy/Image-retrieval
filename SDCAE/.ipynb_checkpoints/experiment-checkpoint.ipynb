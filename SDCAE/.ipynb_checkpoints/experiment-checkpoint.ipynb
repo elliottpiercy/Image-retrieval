{
 "cells": [
  {
   "cell_type": "code",
   "execution_count": 59,
   "metadata": {},
   "outputs": [
    {
     "name": "stdout",
     "output_type": "stream",
     "text": [
      "244\n",
      "52\n",
      "54\n"
     ]
    }
   ],
   "source": [
    "import numpy as np\n",
    "from os import listdir\n",
    "from os.path import isfile, join\n",
    "import cv2\n",
    "\n",
    "def get_images(seed = 1):\n",
    "    path = 'G:/Elliott/train_sm/'\n",
    "    images = np.array([])\n",
    "    count = 0\n",
    "\n",
    "    for f in listdir(path):\n",
    "        if isfile(join(path, f)):\n",
    "            data = cv2.cvtColor(cv2.imread(path+f), cv2.COLOR_BGR2GRAY)\n",
    "            data = cv2.resize(data, dsize=(150,150), interpolation=cv2.INTER_CUBIC)\n",
    "            images = np.append(images,np.ravel(data))\n",
    "            count +=1\n",
    "\n",
    "    images = np.reshape(images, (count,150*150))\n",
    "    np.random.seed(seed)\n",
    "    np.random.shuffle(images)\n",
    "    return images\n",
    "\n",
    "\n",
    "\n",
    "class data():\n",
    "    \n",
    "    def __init__(self,images, train, validation, test):\n",
    "        self.images = images\n",
    "        self.train = self.train(images[:int(len(images)*train)],np.arange(int(len(images)*train)))\n",
    "        \n",
    "        self.validation = self.validation(images[int(len(images)*train):int(len(images)*train)+int(len(images)*validation)],\n",
    "                                          np.arange(int(len(images)*validation)))\n",
    "        \n",
    "        self.test = self.test(images[int(len(images)*train)+int(len(images)*validation):],\n",
    "                              np.arange(int(len(images)*test)))\n",
    "        \n",
    "    \n",
    "    # Class for training set variables batch method\n",
    "    class train():\n",
    "    \n",
    "        def __init__(self,images,labels):\n",
    "            self.images = images\n",
    "            self.labels = labels\n",
    "            self.num_examples = images.shape[0]\n",
    "            self.batch_count = 0\n",
    "\n",
    "\n",
    "        def next_batch(self,batch_size):\n",
    "            next_batch = self.images[self.batch_count:self.batch_count + batch_size]\n",
    "            self.batch_count += batch_size\n",
    "            return next_batch   \n",
    "        \n",
    "        \n",
    "    # Class for validation set variables\n",
    "    class validation():\n",
    "    \n",
    "        def __init__(self,images,labels):\n",
    "            self.images = images\n",
    "            self.labels = labels\n",
    "            self.num_examples = images.shape[0]\n",
    "\n",
    "        \n",
    "    # Class for test set variables \n",
    "    class test():\n",
    "            \n",
    "        def __init__(self,images,labels):\n",
    "            self.images = images\n",
    "            self.labels = labels\n",
    "            self.num_examples = images.shape[0]\n",
    "        \n",
    "        \n",
    "        \n",
    "        \n",
    "        \n",
    "imgs = get_images()\n",
    "satellite = data(imgs, train = 0.7, validation = 0.15, test = 0.15)\n",
    "print(satellite.train.num_examples)\n",
    "print(satellite.validation.num_examples)\n",
    "print(satellite.test.num_examples)\n"
   ]
  },
  {
   "cell_type": "code",
   "execution_count": null,
   "metadata": {},
   "outputs": [],
   "source": []
  },
  {
   "cell_type": "code",
   "execution_count": null,
   "metadata": {},
   "outputs": [],
   "source": []
  },
  {
   "cell_type": "code",
   "execution_count": null,
   "metadata": {},
   "outputs": [],
   "source": []
  }
 ],
 "metadata": {
  "kernelspec": {
   "display_name": "Python 3",
   "language": "python",
   "name": "python3"
  },
  "language_info": {
   "codemirror_mode": {
    "name": "ipython",
    "version": 3
   },
   "file_extension": ".py",
   "mimetype": "text/x-python",
   "name": "python",
   "nbconvert_exporter": "python",
   "pygments_lexer": "ipython3",
   "version": "3.6.8"
  }
 },
 "nbformat": 4,
 "nbformat_minor": 2
}
